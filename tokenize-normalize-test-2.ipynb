{
 "cells": [
  {
   "cell_type": "code",
   "execution_count": 3,
   "metadata": {
    "collapsed": false
   },
   "outputs": [
    {
     "name": "stdout",
     "output_type": "stream",
     "text": [
      "[{'t': '[1rb]'}, {'t': 'Al'}, {'t': 's(an)c(t)o'}, {'t': 'padre'}, {'t': 'papa'}, {'t': 'Gregorio'}, {'t': 'xjo.'}, {'t': '|'}, {'t': 'Al'}, {'t': 'nome'}, {'t': 'di'}, {'t': 'Yh(es)u'}, {'t': 'Chr(ist)o'}, {'t': 'crocifixo'}, {'t': '(et)'}, {'t': 'di'}, {'t': '|'}, {'t': 'Maria'}, {'t': 'dolce.'}, {'t': '|'}, {'t': 'Sanct|issimo'}, {'t': '(et)'}, {'t': 'revere(n)dissimo'}, {'t': '|'}, {'t': 'padre'}, {'t': 'mio'}, {'t': 'i(n)'}, {'t': 'Chr(ist)o'}, {'t': 'dolce'}, {'t': '||'}, {'t': 'Yh(es)u.'}, {'t': 'Io'}, {'t': 'Katerina,'}, {'t': 'i(n)de|gna'}, {'t': '(et)'}, {'t': 'mis(er)abile'}, {'t': 'v(ost)ra'}, {'t': '|'}, {'t': 'figliola,'}, {'t': 's(er)va'}, {'t': '(et)'}, {'t': 'schia|va'}, {'t': 'de’'}, {'t': 'servi'}, {'t': 'di'}, {'t': 'Yh(es)u'}, {'t': 'Chr(ist)o,'}, {'t': 'scrivo'}, {'t': 'a'}, {'t': 'voi'}, {'t': '|'}, {'t': 'nel'}, {'t': 'pretioso'}, {'t': 'sangue'}, {'t': 'suo.'}, {'t': 'Co(n)'}, {'t': 'deside(r)io'}, {'t': '||'}, {'t': 'de'}, {'t': 'vedervi'}, {'t': 'pastore'}, {'t': 'buono,'}, {'t': 'co(n)sidera(n)|do'}, {'t': 'me,'}, {'t': 'babbo'}, {'t': 'mio'}, {'t': 'dolce,'}, {'t': 'che'}, {'t': 'el'}, {'t': 'lupo'}, {'t': '|'}, {'t': 'i(n)fernale'}, {'t': 'ne'}, {'t': 'po(r)ta'}, {'t': 'le'}, {'t': 'pecorelle'}, {'t': 'v(ost)re'}, {'t': 'et'}, {'t': '|'}, {'t': 'no(n)'}, {'t': 'si'}, {'t': 'trova'}, {'t': 'chi'}, {'t': 'le'}, {'t': 'redemischa.'}]\n"
     ]
    }
   ],
   "source": [
    "import re\n",
    "testimone_P4 = open( \"lettere/T196-part1-P4.txt\", encoding='utf-8' ).read()\n",
    "input = testimone_P4\n",
    "words = re.split('\\s+', input)\n",
    "#tokens_by_word_P4 = [re.findall(r'.+\\w|\\W+$', word) for word in words]\n",
    "tokens_by_word_P4 = [re.findall(r'\\S+\\s*', word) for word in words]\n",
    "tokens = []\n",
    "for item in tokens_by_word_P4:\n",
    "    tokens.extend(item)\n",
    "token_list_P4 = [{\"t\": token} for token in tokens]\n",
    "print(token_list_P4)"
   ]
  },
  {
   "cell_type": "code",
   "execution_count": 5,
   "metadata": {
    "collapsed": false
   },
   "outputs": [
    {
     "name": "stdout",
     "output_type": "stream",
     "text": [
      "[{'t': '[1ra]'}, {'t': 'Al'}, {'t': 'nome'}, {'t': 'di'}, {'t': 'Ih(es)u'}, {'t': 'Chr(ist)o'}, {'t': 'c(r)ucifixo'}, {'t': '(et)'}, {'t': '|'}, {'t': 'di'}, {'t': 'Maria'}, {'t': 'dolce.'}, {'t': 'Al'}, {'t': 'n(ost)ro'}, {'t': 'signo|re'}, {'t': 'lo'}, {'t': 'papa'}, {'t': 'Gregorio'}, {'t': 'Undeci(m)o.'}, {'t': '|'}, {'t': 'Sanc|tissi(m)o'}, {'t': '||'}, {'t': 'et'}, {'t': 're|vere(n)|dissi(m)o'}, {'t': '|'}, {'t': 'padr|e'}, {'t': 'mi||o'}, {'t': 'in'}, {'t': 'Ch(rist)o'}, {'t': '|'}, {'t': 'dolce'}, {'t': '|'}, {'t': 'Ih(es)u.'}, {'t': '|'}, {'t': 'Io'}, {'t': 'K(aterina)'}, {'t': '|'}, {'t': 'indegna'}, {'t': '(et)'}, {'t': 'miserabile'}, {'t': 'v(ost)ra'}, {'t': 'figli||'}, {'t': '[1rb]'}, {'t': 'uola,'}, {'t': 's(er)va'}, {'t': '(et)'}, {'t': 'schiava'}, {'t': 'de’'}, {'t': 's(er)vi'}, {'t': 'di'}, {'t': '|'}, {'t': 'Ih(es)u'}, {'t': 'Chr(ist)o,'}, {'t': 'scrivo'}, {'t': 'a'}, {'t': 'voi'}, {'t': 'nel'}, {'t': 'p(re)tioso'}, {'t': '|'}, {'t': 'sangue'}, {'t': 'suo.'}, {'t': 'Con'}, {'t': 'desederio'}, {'t': 'di'}, {'t': 've|dervi'}, {'t': 'pastore'}, {'t': 'buono.'}, {'t': 'Considera(n)|do'}, {'t': 'me,'}, {'t': 'babbo'}, {'t': 'mio'}, {'t': 'dolce,'}, {'t': 'che'}, {'t': 'il'}, {'t': 'lu||po'}, {'t': 'ne'}, {'t': 'porta'}, {'t': 'le'}, {'t': 'pecorelle'}, {'t': 'v(ost)re'}, {'t': '(et)'}, {'t': 'no(n)'}, {'t': '|'}, {'t': 'si'}, {'t': 'truova'}, {'t': 'chi'}, {'t': 'le'}, {'t': 'remedisca.'}]\n"
     ]
    }
   ],
   "source": [
    "import re\n",
    "testimone_S2 = open( \"lettere/T196-part1-S2.txt\", encoding='utf-8' ).read()\n",
    "input = testimone_S2\n",
    "words = re.split('\\s+', input)\n",
    "tokens_by_word_S2 = [re.findall(r'\\S+\\s*', word) for word in words]\n",
    "tokens = []\n",
    "for item in tokens_by_word_S2:\n",
    "    tokens.extend(item)\n",
    "token_list_S2 = [{\"t\": token} for token in tokens]\n",
    "print(token_list_S2)"
   ]
  },
  {
   "cell_type": "code",
   "execution_count": 8,
   "metadata": {
    "collapsed": false
   },
   "outputs": [
    {
     "ename": "TypeError",
     "evalue": "list indices must be integers or slices, not str",
     "output_type": "error",
     "traceback": [
      "\u001b[0;31m---------------------------------------------------------------------------\u001b[0m",
      "\u001b[0;31mTypeError\u001b[0m                                 Traceback (most recent call last)",
      "\u001b[0;32m<ipython-input-8-904d0b7d47e1>\u001b[0m in \u001b[0;36m<module>\u001b[0;34m()\u001b[0m\n\u001b[1;32m      2\u001b[0m \u001b[0mwitnesses\u001b[0m \u001b[1;33m=\u001b[0m \u001b[1;33m[\u001b[0m\u001b[0mtoken_list_S2\u001b[0m\u001b[1;33m,\u001b[0m \u001b[0mtoken_list_P4\u001b[0m\u001b[1;33m]\u001b[0m\u001b[1;33m\u001b[0m\u001b[0m\n\u001b[1;32m      3\u001b[0m \u001b[0mcollation\u001b[0m \u001b[1;33m=\u001b[0m \u001b[1;33m{\u001b[0m\u001b[1;34m\"witnesses\"\u001b[0m\u001b[1;33m:\u001b[0m\u001b[0mwitnesses\u001b[0m\u001b[1;33m}\u001b[0m\u001b[1;33m\u001b[0m\u001b[0m\n\u001b[0;32m----> 4\u001b[0;31m \u001b[0malignment_table\u001b[0m \u001b[1;33m=\u001b[0m \u001b[0mcollate\u001b[0m\u001b[1;33m(\u001b[0m\u001b[0mcollation\u001b[0m\u001b[1;33m,\u001b[0m \u001b[0msegmentation\u001b[0m\u001b[1;33m=\u001b[0m\u001b[1;32mFalse\u001b[0m\u001b[1;33m)\u001b[0m\u001b[1;33m\u001b[0m\u001b[0m\n\u001b[0m\u001b[1;32m      5\u001b[0m \u001b[0mprint\u001b[0m\u001b[1;33m(\u001b[0m\u001b[0malignment_table\u001b[0m\u001b[1;33m)\u001b[0m\u001b[1;33m\u001b[0m\u001b[0m\n",
      "\u001b[0;32mc:\\users\\elena\\python35\\lib\\site-packages\\collatex\\core_functions.py\u001b[0m in \u001b[0;36mcollate\u001b[0;34m(collation, output, layout, segmentation, near_match, astar, detect_transpositions, debug_scores, properties_filter, svg_output, indent, scheduler)\u001b[0m\n\u001b[1;32m     34\u001b[0m         \u001b[0mjson_collation\u001b[0m \u001b[1;33m=\u001b[0m \u001b[0mCollation\u001b[0m\u001b[1;33m(\u001b[0m\u001b[1;33m)\u001b[0m\u001b[1;33m\u001b[0m\u001b[0m\n\u001b[1;32m     35\u001b[0m         \u001b[1;32mfor\u001b[0m \u001b[0mwitness\u001b[0m \u001b[1;32min\u001b[0m \u001b[0mcollation\u001b[0m\u001b[1;33m[\u001b[0m\u001b[1;34m\"witnesses\"\u001b[0m\u001b[1;33m]\u001b[0m\u001b[1;33m:\u001b[0m\u001b[1;33m\u001b[0m\u001b[0m\n\u001b[0;32m---> 36\u001b[0;31m             \u001b[0mjson_collation\u001b[0m\u001b[1;33m.\u001b[0m\u001b[0madd_witness\u001b[0m\u001b[1;33m(\u001b[0m\u001b[0mwitness\u001b[0m\u001b[1;33m)\u001b[0m\u001b[1;33m\u001b[0m\u001b[0m\n\u001b[0m\u001b[1;32m     37\u001b[0m         \u001b[0mcollation\u001b[0m \u001b[1;33m=\u001b[0m \u001b[0mjson_collation\u001b[0m\u001b[1;33m\u001b[0m\u001b[0m\n\u001b[1;32m     38\u001b[0m \u001b[1;33m\u001b[0m\u001b[0m\n",
      "\u001b[0;32mc:\\users\\elena\\python35\\lib\\site-packages\\collatex\\core_classes.py\u001b[0m in \u001b[0;36madd_witness\u001b[0;34m(self, witnessdata)\u001b[0m\n\u001b[1;32m     40\u001b[0m \u001b[1;33m\u001b[0m\u001b[0m\n\u001b[1;32m     41\u001b[0m     \u001b[1;32mdef\u001b[0m \u001b[0madd_witness\u001b[0m\u001b[1;33m(\u001b[0m\u001b[0mself\u001b[0m\u001b[1;33m,\u001b[0m \u001b[0mwitnessdata\u001b[0m\u001b[1;33m)\u001b[0m\u001b[1;33m:\u001b[0m\u001b[1;33m\u001b[0m\u001b[0m\n\u001b[0;32m---> 42\u001b[0;31m         \u001b[0mwitness\u001b[0m \u001b[1;33m=\u001b[0m \u001b[0mWitness\u001b[0m\u001b[1;33m(\u001b[0m\u001b[0mwitnessdata\u001b[0m\u001b[1;33m)\u001b[0m\u001b[1;33m\u001b[0m\u001b[0m\n\u001b[0m\u001b[1;32m     43\u001b[0m         \u001b[0mself\u001b[0m\u001b[1;33m.\u001b[0m\u001b[0mwitnesses\u001b[0m\u001b[1;33m.\u001b[0m\u001b[0mappend\u001b[0m\u001b[1;33m(\u001b[0m\u001b[0mwitness\u001b[0m\u001b[1;33m)\u001b[0m\u001b[1;33m\u001b[0m\u001b[0m\n\u001b[1;32m     44\u001b[0m \u001b[1;33m\u001b[0m\u001b[0m\n",
      "\u001b[0;32mc:\\users\\elena\\python35\\lib\\site-packages\\collatex\\core_classes.py\u001b[0m in \u001b[0;36m__init__\u001b[0;34m(self, witnessdata)\u001b[0m\n\u001b[1;32m    189\u001b[0m \u001b[1;32mclass\u001b[0m \u001b[0mWitness\u001b[0m\u001b[1;33m(\u001b[0m\u001b[0mobject\u001b[0m\u001b[1;33m)\u001b[0m\u001b[1;33m:\u001b[0m\u001b[1;33m\u001b[0m\u001b[0m\n\u001b[1;32m    190\u001b[0m     \u001b[1;32mdef\u001b[0m \u001b[0m__init__\u001b[0m\u001b[1;33m(\u001b[0m\u001b[0mself\u001b[0m\u001b[1;33m,\u001b[0m \u001b[0mwitnessdata\u001b[0m\u001b[1;33m)\u001b[0m\u001b[1;33m:\u001b[0m\u001b[1;33m\u001b[0m\u001b[0m\n\u001b[0;32m--> 191\u001b[0;31m         \u001b[0mself\u001b[0m\u001b[1;33m.\u001b[0m\u001b[0msigil\u001b[0m \u001b[1;33m=\u001b[0m \u001b[0mwitnessdata\u001b[0m\u001b[1;33m[\u001b[0m\u001b[1;34m'id'\u001b[0m\u001b[1;33m]\u001b[0m\u001b[1;33m\u001b[0m\u001b[0m\n\u001b[0m\u001b[1;32m    192\u001b[0m         \u001b[0mself\u001b[0m\u001b[1;33m.\u001b[0m\u001b[0m_tokens\u001b[0m \u001b[1;33m=\u001b[0m \u001b[1;33m[\u001b[0m\u001b[1;33m]\u001b[0m\u001b[1;33m\u001b[0m\u001b[0m\n\u001b[1;32m    193\u001b[0m         \u001b[1;32mif\u001b[0m \u001b[1;34m'content'\u001b[0m \u001b[1;32min\u001b[0m \u001b[0mwitnessdata\u001b[0m\u001b[1;33m:\u001b[0m\u001b[1;33m\u001b[0m\u001b[0m\n",
      "\u001b[0;31mTypeError\u001b[0m: list indices must be integers or slices, not str"
     ]
    }
   ],
   "source": [
    "from collatex import *\n",
    "witnesses = [token_list_S2, token_list_P4]\n",
    "collation = {\"witnesses\":witnesses}\n",
    "alignment_table = collate(collation, segmentation=False)\n",
    "print(alignment_table)"
   ]
  },
  {
   "cell_type": "code",
   "execution_count": null,
   "metadata": {
    "collapsed": true
   },
   "outputs": [],
   "source": []
  }
 ],
 "metadata": {
  "kernelspec": {
   "display_name": "Python 3",
   "language": "python",
   "name": "python3"
  },
  "language_info": {
   "codemirror_mode": {
    "name": "ipython",
    "version": 3
   },
   "file_extension": ".py",
   "mimetype": "text/x-python",
   "name": "python",
   "nbconvert_exporter": "python",
   "pygments_lexer": "ipython3",
   "version": "3.5.2"
  }
 },
 "nbformat": 4,
 "nbformat_minor": 1
}
