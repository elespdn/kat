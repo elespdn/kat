{
 "cells": [
  {
   "cell_type": "code",
   "execution_count": 1,
   "metadata": {
    "collapsed": false
   },
   "outputs": [
    {
     "name": "stdout",
     "output_type": "stream",
     "text": [
      "[\"Peter's\", 'cat.']\n"
     ]
    }
   ],
   "source": [
    "import re\n",
    "input = \"Peter's cat.\"\n",
    "words = re.split('\\s+', input)\n",
    "print(words)"
   ]
  },
  {
   "cell_type": "code",
   "execution_count": 6,
   "metadata": {
    "collapsed": false
   },
   "outputs": [
    {
     "name": "stdout",
     "output_type": "stream",
     "text": [
      "[['[1rb', ']'], ['Al'], ['s(an)c(t)o'], ['padre'], ['papa'], ['Gregorio'], ['xjo', '.'], ['|'], ['Al'], ['nome'], ['di'], ['Yh(es)u'], ['Chr(ist)o'], ['crocifixo'], ['(et', ')'], ['di'], ['|'], ['Maria'], ['dolce', '.'], ['|'], ['Sanct|issimo'], ['(et', ')'], ['revere(n)dissimo'], ['|'], ['padre'], ['mio'], ['i(n', ')'], ['Chr(ist)o'], ['dolce'], ['||'], ['Yh(es)u', '.'], ['Io'], ['Katerina', ','], ['i(n)de|gna'], ['(et', ')'], ['mis(er)abile'], ['v(ost)ra'], ['|'], ['figliola', ','], ['s(er)va'], ['(et', ')'], ['schia|va'], ['de', '’'], ['servi'], ['di'], ['Yh(es)u'], ['Chr(ist)o', ','], ['scrivo'], [], ['voi'], ['|'], ['nel'], ['pretioso'], ['sangue'], ['suo', '.'], ['Co(n', ')'], ['deside(r)io'], ['||'], ['de'], ['vedervi'], ['pastore'], ['buono', ','], ['co(n)sidera(n)|do'], ['me', ','], ['babbo'], ['mio'], ['dolce', ','], ['che'], ['el'], ['lupo'], ['|'], ['i(n)fernale'], ['ne'], ['po(r)ta'], ['le'], ['pecorelle'], ['v(ost)re'], ['et'], ['|'], ['no(n', ')'], ['si'], ['trova'], ['chi'], ['le'], ['redemischa', '.'], []]\n"
     ]
    }
   ],
   "source": [
    "import re\n",
    "testimone_P4 = open( \"lettere/T196-part1-P4.txt\", encoding='utf-8' ).read()\n",
    "input = testimone_P4\n",
    "words = re.split('\\s+', input)\n",
    "# tokens_by_word = [re.findall(r'.+\\w|\\W+$', word) for word in words]\n",
    "print(tokens_by_word)"
   ]
  },
  {
   "cell_type": "code",
   "execution_count": 7,
   "metadata": {
    "collapsed": false
   },
   "outputs": [
    {
     "name": "stdout",
     "output_type": "stream",
     "text": [
      "[['[1rb', ']'], ['Al'], ['s(an)c(t)o'], ['padre'], ['papa'], ['Gregorio'], ['xjo', '.'], ['|'], ['Al'], ['nome'], ['di'], ['Yh(es)u'], ['Chr(ist)o'], ['crocifixo'], ['(et', ')'], ['di'], ['|'], ['Maria'], ['dolce', '.'], ['|'], ['Sanct|issimo'], ['(et', ')'], ['revere(n)dissimo'], ['|'], ['padre'], ['mio'], ['i(n', ')'], ['Chr(ist)o'], ['dolce'], ['||'], ['Yh(es)u', '.'], ['Io'], ['Katerina', ','], ['i(n)de|gna'], ['(et', ')'], ['mis(er)abile'], ['v(ost)ra'], ['|'], ['figliola', ','], ['s(er)va'], ['(et', ')'], ['schia|va'], ['de', '’'], ['servi'], ['di'], ['Yh(es)u'], ['Chr(ist)o', ','], ['scrivo'], [], ['voi'], ['|'], ['nel'], ['pretioso'], ['sangue'], ['suo', '.'], ['Co(n', ')'], ['deside(r)io'], ['||'], ['de'], ['vedervi'], ['pastore'], ['buono', ','], ['co(n)sidera(n)|do'], ['me', ','], ['babbo'], ['mio'], ['dolce', ','], ['che'], ['el'], ['lupo'], ['|'], ['i(n)fernale'], ['ne'], ['po(r)ta'], ['le'], ['pecorelle'], ['v(ost)re'], ['et'], ['|'], ['no(n', ')'], ['si'], ['trova'], ['chi'], ['le'], ['redemischa', '.'], []]\n"
     ]
    }
   ],
   "source": [
    "import re\n",
    "testimone_P4 = open( \"lettere/T196-part1-P4.txt\", encoding='utf-8' ).read()\n",
    "input = testimone_P4\n",
    "words = re.split('\\s+', input)\n",
    "tokens_by_word = [re.findall(r'.+\\w|\\W+$', word) for word in words]\n",
    "print(tokens_by_word)"
   ]
  },
  {
   "cell_type": "code",
   "execution_count": null,
   "metadata": {
    "collapsed": true
   },
   "outputs": [],
   "source": [
    "import re\n",
    "testimone_P4 = open( \"lettere/T196-part1-P4.txt\", encoding='utf-8' ).read()\n",
    "input = testimone_P4\n",
    "words = re.split('\\s+', input)\n",
    "tokens_by_word = [re.findall(r'.+\\w|\\W+$', word) for word in words]\n",
    "print(tokens_by_word)"
   ]
  }
 ],
 "metadata": {
  "kernelspec": {
   "display_name": "Python 3",
   "language": "python",
   "name": "python3"
  },
  "language_info": {
   "codemirror_mode": {
    "name": "ipython",
    "version": 3
   },
   "file_extension": ".py",
   "mimetype": "text/x-python",
   "name": "python",
   "nbconvert_exporter": "python",
   "pygments_lexer": "ipython3",
   "version": "3.5.2"
  }
 },
 "nbformat": 4,
 "nbformat_minor": 1
}
