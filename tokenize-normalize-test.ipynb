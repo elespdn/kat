{
 "cells": [
  {
   "cell_type": "code",
   "execution_count": null,
   "metadata": {
    "collapsed": false
   },
   "outputs": [],
   "source": [
    "import re\n",
    "input = \"Peter's cat.\"\n",
    "words = re.split('\\s+', input)\n",
    "print(words)"
   ]
  },
  {
   "cell_type": "code",
   "execution_count": null,
   "metadata": {
    "collapsed": false
   },
   "outputs": [],
   "source": [
    "import re\n",
    "testimone_P4 = open( \"lettere/T196-part1-P4.txt\", encoding='utf-8' ).read()\n",
    "input = testimone_P4\n",
    "words = re.split('\\s+', input)\n",
    "# tokens_by_word = [re.findall(r'.+\\w|\\W+$', word) for word in words]\n",
    "print(tokens_by_word)"
   ]
  },
  {
   "cell_type": "code",
   "execution_count": null,
   "metadata": {
    "collapsed": false
   },
   "outputs": [],
   "source": [
    "import re\n",
    "testimone_P4 = open( \"lettere/T196-part1-P4.txt\", encoding='utf-8' ).read()\n",
    "input = testimone_P4\n",
    "words = re.findall('(\\w)*(\\|)*(\\()*\\w+(\\))*(\\w)*|\\||\\W+$', input)\n",
    "print(words)"
   ]
  },
  {
   "cell_type": "code",
   "execution_count": null,
   "metadata": {
    "collapsed": false
   },
   "outputs": [],
   "source": [
    "import re\n",
    "testimone_P4 = open( \"lettere/T196-part1-P4.txt\", encoding='utf-8' ).read()\n",
    "input = testimone_P4\n",
    "words = re.split('\\s+', input)\n",
    "#tokens_by_word_P4 = [re.findall(r'.+\\w|\\W+$', word) for word in words]\n",
    "tokens_by_word_P4 = [re.findall(r'\\S+\\s*', word) for word in words]\n",
    "tokens = []\n",
    "for item in tokens_by_word_P4:\n",
    "    tokens.extend(item)\n",
    "token_list = [{\"t\": token} for token in tokens]\n",
    "print(token_list_P4)"
   ]
  },
  {
   "cell_type": "code",
   "execution_count": null,
   "metadata": {
    "collapsed": false
   },
   "outputs": [],
   "source": [
    "import re\n",
    "testimone_S2 = open( \"lettere/T196-part1-S2.txt\", encoding='utf-8' ).read()\n",
    "input = testimone_S2\n",
    "words = re.split('\\s+', input)\n",
    "#tokens_by_word_S2 = [re.findall(r'.+\\w|\\W+$', word) for word in words]\n",
    "tokens_by_word_S2 = [re.findall(r'\\S+\\s*', word) for word in words]\n",
    "for item in tokens_by_word_S2:\n",
    "    tokens.extend(item)\n",
    "token_list = [{\"t\": token} for token in tokens]\n",
    "print(token_list_S2)"
   ]
  },
  {
   "cell_type": "code",
   "execution_count": null,
   "metadata": {
    "collapsed": false
   },
   "outputs": [],
   "source": [
    "from collatex import *\n",
    "collation = Collation()\n",
    "collation.add_plain_witness('P4', token_list_P4)\n",
    "collation.add_plain_witness('S2', token_list_S2)\n",
    "alignment_table = collate(collation, segmentation=False)\n",
    "print(alignment_table)"
   ]
  },
  {
   "cell_type": "code",
   "execution_count": null,
   "metadata": {
    "collapsed": false
   },
   "outputs": [],
   "source": [
    "import re\n",
    "testimone_P4 = open( \"lettere/T196-part1-P4.txt\", encoding='utf-8' ).read()\n",
    "input = testimone_P4\n",
    "words = re.split('\\s+', input)\n",
    "tokens_by_word_P4 = [re.findall(r'\\S+\\s*', word) for word in words]\n",
    "tokens = []\n",
    "for item in tokens_by_word_P4:\n",
    "    tokens.extend(item)\n",
    "token_list_P4 = [{\"t\": token} for token in tokens]\n",
    "\n",
    "testimone_S2 = open( \"lettere/T196-part1-S2.txt\", encoding='utf-8' ).read()\n",
    "input = testimone_S2\n",
    "words = re.split('\\s+', input)\n",
    "tokens_by_word_S2 = [re.findall(r'\\S+\\s*', word) for word in words]\n",
    "for item in tokens_by_word_S2:\n",
    "    tokens.extend(item)\n",
    "token_list_S2 = [{\"t\": token} for token in tokens]\n",
    "\n",
    "print(token_list_P4, \"BLABLABLBLABLABLA\", token_list_S2)"
   ]
  },
  {
   "cell_type": "code",
   "execution_count": null,
   "metadata": {
    "collapsed": false
   },
   "outputs": [],
   "source": [
    "import re\n",
    "testimone_S2 = open( \"lettere/T196-part1-S2.txt\", encoding='utf-8' ).read()\n",
    "input = testimone_S2\n",
    "words = re.split('\\s+', input)\n",
    "tokens_by_word_S2 = [re.findall(r'\\S+\\s*', word) for word in words]\n",
    "for item in tokens_by_word_S2:\n",
    "    tokens_by_word_S2.extend(item)\n",
    "token_list_S2 = [{\"t\": token} for token in tokens_by_word_S2]\n",
    "print(token_list_S2)"
   ]
  },
  {
   "cell_type": "code",
   "execution_count": null,
   "metadata": {
    "collapsed": true
   },
   "outputs": [],
   "source": []
  }
 ],
 "metadata": {
  "kernelspec": {
   "display_name": "Python 3",
   "language": "python",
   "name": "python3"
  },
  "language_info": {
   "codemirror_mode": {
    "name": "ipython",
    "version": 3
   },
   "file_extension": ".py",
   "mimetype": "text/x-python",
   "name": "python",
   "nbconvert_exporter": "python",
   "pygments_lexer": "ipython3",
   "version": "3.5.2"
  }
 },
 "nbformat": 4,
 "nbformat_minor": 1
}
